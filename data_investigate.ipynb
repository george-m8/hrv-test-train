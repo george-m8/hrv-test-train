{
 "cells": [
  {
   "cell_type": "code",
   "execution_count": 9,
   "metadata": {},
   "outputs": [],
   "source": [
    "import numpy as np \n",
    "import pandas as pd"
   ]
  },
  {
   "cell_type": "code",
   "execution_count": 10,
   "metadata": {},
   "outputs": [],
   "source": [
    "# Function to load and analyze the data\n",
    "def load_and_analyze(file):\n",
    "    # Check file extension and load accordingly\n",
    "    if file.endswith('.npy'):\n",
    "        # Load .npy file\n",
    "        data = np.load(file)\n",
    "        print(f\"Loaded .npy file: {file}\")\n",
    "    elif file.endswith('.csv'):\n",
    "        # Load .csv file using pandas\n",
    "        data = pd.read_csv(file)\n",
    "        print(f\"Loaded .csv file: {file}\")\n",
    "    else:\n",
    "        raise ValueError(\"Unsupported file format. Only .npy and .csv are supported.\")\n",
    "    \n",
    "    # Handle NumPy arrays directly\n",
    "    if isinstance(data, np.ndarray):\n",
    "        print(\"This is a NumPy array\")\n",
    "        print_stats(data)\n",
    "    \n",
    "    # Handle pandas DataFrames (for CSVs)\n",
    "    elif isinstance(data, pd.DataFrame):\n",
    "        print(\"This is a pandas DataFrame\")\n",
    "        \n",
    "        # Separate numeric data and calculate stats\n",
    "        numeric_data = data.select_dtypes(include=[np.number])\n",
    "        \n",
    "        # Convert to numpy array if necessary\n",
    "        if not numeric_data.empty:\n",
    "            print_stats(numeric_data.to_numpy())\n",
    "        else:\n",
    "            print(\"No numeric data found in the CSV file\")\n",
    "    else:\n",
    "        print(\"Unsupported data type.\")"
   ]
  },
  {
   "cell_type": "code",
   "execution_count": 11,
   "metadata": {},
   "outputs": [],
   "source": [
    "# Function to print statistics\n",
    "def print_stats(data):\n",
    "    print(\"Shape:\", data.shape)\n",
    "    if np.issubdtype(data.dtype, np.number):\n",
    "        print(\"Max:\", np.nanmax(data))  # Use nanmax to ignore NaN values\n",
    "        print(\"Min:\", np.nanmin(data))  # Use nanmin to ignore NaN values\n",
    "        print(\"Mean:\", np.nanmean(data))  # Use nanmean to ignore NaN values\n",
    "        print(\"Std:\", np.nanstd(data))  # Use nanstd to ignore NaN values\n",
    "    else:\n",
    "        print(\"Data is not numeric.\")"
   ]
  },
  {
   "cell_type": "code",
   "execution_count": 12,
   "metadata": {},
   "outputs": [
    {
     "name": "stdout",
     "output_type": "stream",
     "text": [
      "Loaded .csv file: mfcc_features/mfcc_n_mfcc=40_n_fft=4096_hop_length=512_n_mels=40_fmax=4000.csv\n",
      "This is a pandas DataFrame\n",
      "Shape: (125, 125161)\n",
      "Max: 233.0\n",
      "Min: -368.2053527832031\n",
      "Mean: -1.6456110313816315\n",
      "Std: 16.50251207091385\n"
     ]
    }
   ],
   "source": [
    "file = 'mfcc_features/mfcc_n_mfcc=40_n_fft=4096_hop_length=512_n_mels=40_fmax=4000.csv'\n",
    "load_and_analyze(file)"
   ]
  }
 ],
 "metadata": {
  "kernelspec": {
   "display_name": "venv",
   "language": "python",
   "name": "python3"
  },
  "language_info": {
   "codemirror_mode": {
    "name": "ipython",
    "version": 3
   },
   "file_extension": ".py",
   "mimetype": "text/x-python",
   "name": "python",
   "nbconvert_exporter": "python",
   "pygments_lexer": "ipython3",
   "version": "3.12.3"
  }
 },
 "nbformat": 4,
 "nbformat_minor": 2
}
